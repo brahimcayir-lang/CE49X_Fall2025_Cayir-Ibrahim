{
 "cells": [
  {
   "cell_type": "markdown",
   "metadata": {},
   "source": [
    "# CE 49X - Lab 01: Building Energy Calculator\n",
    "\n",
    "**Student Name:** ________________  \n",
    "**Student ID:** ________________  \n",
    "**Date:** ________________\n",
    "\n",
    "---\n",
    "\n",
    "## Introduction\n",
    "\n",
    "Welcome to Lab 1! In this lab, you'll analyze building energy consumption using Python. Energy efficiency is crucial in civil engineering - buildings consume about 40% of global energy!\n",
    "\n",
    "You'll work with:\n",
    "- Variables and data types\n",
    "- Lists and dictionaries\n",
    "- Loops and conditionals\n",
    "- Functions\n",
    "- String formatting\n",
    "\n",
    "**Important:** Read the PDF instructions (`lab01_instructions.pdf`) for complete details!\n",
    "\n",
    "---"
   ]
  },
  {
   "cell_type": "markdown",
   "metadata": {},
   "source": [
    "## Exercise 1: Energy Consumption Basics (20 points)\n",
    "\n",
    "### Part A: Daily Energy Calculation (8 points)\n",
    "\n",
    "A commercial building has the following daily energy consumption:\n",
    "- Lighting: 450 kWh\n",
    "- HVAC: 1200 kWh\n",
    "- Equipment: 350 kWh\n",
    "- Other: 180 kWh\n",
    "\n",
    "**Tasks:**\n",
    "1. Create variables for each energy component\n",
    "2. Calculate total daily energy consumption\n",
    "3. Calculate monthly consumption (30 days)\n",
    "4. Print results with f-strings"
   ]
  },
  {
   "cell_type": "code",
   "execution_count": null,
   "metadata": {},
   "outputs": [],
   "source": [
    "# Exercise 1A: Daily Energy Calculation\n",
    "\n",
    "# TODO: Create variables for each energy component\n",
    "lighting = \n",
    "hvac = \n",
    "equipment = \n",
    "other = \n",
    "\n",
    "# TODO: Calculate total daily consumption\n",
    "daily_total = \n",
    "\n",
    "# TODO: Calculate monthly consumption (30 days)\n",
    "monthly_total = \n",
    "\n",
    "# TODO: Print results using f-strings\n",
    "print(\"Daily Energy Consumption:\")\n",
    "print(f\"  Lighting: {lighting:.2f} kWh\")\n",
    "# Add more print statements here\n",
    "\n",
    "print(f\"\\nMonthly Consumption: {monthly_total:.2f} kWh\")"
   ]
  },
  {
   "cell_type": "markdown",
   "metadata": {},
   "source": [
    "### Part B: Unit Conversion (6 points)\n",
    "\n",
    "Convert the monthly energy consumption:\n",
    "- From kWh to MJ (1 kWh = 3.6 MJ)\n",
    "- From MJ to GJ (1 GJ = 1000 MJ)"
   ]
  },
  {
   "cell_type": "code",
   "execution_count": null,
   "metadata": {},
   "outputs": [],
   "source": [
    "# Exercise 1B: Unit Conversion\n",
    "\n",
    "# TODO: Convert monthly consumption to MJ\n",
    "monthly_mj = \n",
    "\n",
    "# TODO: Convert to GJ\n",
    "monthly_gj = \n",
    "\n",
    "# TODO: Print results\n",
    "print(f\"Monthly Consumption:\")\n",
    "print(f\"  {monthly_total:.2f} kWh\")\n",
    "# Add more conversions"
   ]
  },
  {
   "cell_type": "markdown",
   "metadata": {},
   "source": [
    "### Part C: Cost Calculation (6 points)\n",
    "\n",
    "Calculate costs using standard rate: 0.12 USD/kWh"
   ]
  },
  {
   "cell_type": "code",
   "execution_count": null,
   "metadata": {},
   "outputs": [],
   "source": [
    "# Exercise 1C: Cost Calculation\n",
    "\n",
    "# TODO: Define the rate\n",
    "standard_rate = 0.12  # USD/kWh\n",
    "\n",
    "# TODO: Calculate monthly cost\n",
    "monthly_cost = \n",
    "\n",
    "# TODO: Calculate annual cost\n",
    "annual_cost = \n",
    "\n",
    "# TODO: Print results formatted as currency\n",
    "print(f\"Energy Costs:\")\n",
    "print(f\"  Monthly: ${monthly_cost:,.2f}\")\n",
    "# Add annual cost"
   ]
  },
  {
   "cell_type": "markdown",
   "metadata": {},
   "source": [
    "---\n",
    "\n",
    "## Exercise 2: Building Energy Analysis (25 points)\n",
    "\n",
    "Analyze energy data for multiple buildings.\n",
    "\n",
    "### Given Data"
   ]
  },
  {
   "cell_type": "code",
   "execution_count": null,
   "metadata": {},
   "outputs": [],
   "source": [
    "# Given data - DO NOT MODIFY\n",
    "buildings = ['Office A', 'Retail B', 'School C', 'Hospital D', 'Apartment E']\n",
    "monthly_consumption = [85000, 62000, 48000, 125000, 71000]  # kWh\n",
    "floor_area = [2500, 1800, 3200, 4000, 2800]  # m^2"
   ]
  },
  {
   "cell_type": "markdown",
   "metadata": {},
   "source": [
    "### Part A: Energy Intensity Calculation (10 points)\n",
    "\n",
    "Energy Intensity = Monthly Consumption / Floor Area (kWh/m²/month)"
   ]
  },
  {
   "cell_type": "code",
   "execution_count": null,
   "metadata": {},
   "outputs": [],
   "source": [
    "# Exercise 2A: Energy Intensity\n",
    "\n",
    "# TODO: Create empty list for energy intensity\n",
    "energy_intensity = []\n",
    "\n",
    "# TODO: Use for loop with enumerate to calculate intensity for each building\n",
    "for i, building in enumerate(buildings):\n",
    "    # Calculate intensity\n",
    "    intensity = \n",
    "    \n",
    "    # Add to list\n",
    "    energy_intensity.append(intensity)\n",
    "    \n",
    "    # Print information\n",
    "    print(f\"{building}: {monthly_consumption[i]} kWh / {floor_area[i]} m^2 = {intensity:.2f} kWh/m^2/month\")"
   ]
  },
  {
   "cell_type": "markdown",
   "metadata": {},
   "source": [
    "### Part B: Statistical Analysis (8 points)\n",
    "\n",
    "Calculate statistics for the building dataset."
   ]
  },
  {
   "cell_type": "code",
   "execution_count": null,
   "metadata": {},
   "outputs": [],
   "source": [
    "# Exercise 2B: Statistical Analysis\n",
    "\n",
    "# TODO: Calculate total consumption\n",
    "total_consumption = \n",
    "\n",
    "# TODO: Calculate average consumption\n",
    "average_consumption = \n",
    "\n",
    "# TODO: Find maximum and minimum\n",
    "max_consumption = \n",
    "min_consumption = \n",
    "\n",
    "# TODO: Print summary report\n",
    "print(\"=\" * 50)\n",
    "print(\"Statistical Summary\")\n",
    "print(\"=\" * 50)\n",
    "print(f\"Total Monthly Consumption: {total_consumption:,.0f} kWh\")\n",
    "# Add more statistics"
   ]
  },
  {
   "cell_type": "markdown",
   "metadata": {},
   "source": [
    "### Part C: Find Buildings Above Average (7 points)\n",
    "\n",
    "Identify buildings with above-average consumption."
   ]
  },
  {
   "cell_type": "code",
   "execution_count": null,
   "metadata": {},
   "outputs": [],
   "source": [
    "# Exercise 2C: Buildings Above Average\n",
    "\n",
    "# TODO: Create list for buildings above average\n",
    "above_average = []\n",
    "\n",
    "# TODO: Use for loop with conditional to find buildings above average\n",
    "for i, building in enumerate(buildings):\n",
    "    if monthly_consumption[i] > average_consumption:\n",
    "        # Add to list\n",
    "        above_average.append(building)\n",
    "\n",
    "# TODO: Print results\n",
    "print(f\"\\nBuildings with above-average consumption:\")\n",
    "print(above_average)\n",
    "print(f\"Count: {len(above_average)} out of {len(buildings)} buildings\")"
   ]
  },
  {
   "cell_type": "markdown",
   "metadata": {},
   "source": [
    "---\n",
    "\n",
    "## Exercise 3: Energy Efficiency Classifier (25 points)\n",
    "\n",
    "Classify buildings based on their annual energy consumption per m².\n",
    "\n",
    "**Efficiency Ratings:**\n",
    "- A: < 50 kWh/m²/year (Excellent)\n",
    "- B: 50-100 kWh/m²/year (Good)\n",
    "- C: 100-150 kWh/m²/year (Average)\n",
    "- D: 150-200 kWh/m²/year (Poor)\n",
    "- F: > 200 kWh/m²/year (Very Poor)\n",
    "\n",
    "### Part A: Annual Energy Calculation (8 points)"
   ]
  },
  {
   "cell_type": "code",
   "execution_count": null,
   "metadata": {},
   "outputs": [],
   "source": [
    "# Exercise 3A: Annual Energy Calculation\n",
    "\n",
    "# TODO: Convert monthly intensity to annual (multiply by 12)\n",
    "annual_intensity = []\n",
    "\n",
    "for intensity in energy_intensity:\n",
    "    annual = \n",
    "    annual_intensity.append(annual)\n",
    "\n",
    "# TODO: Print each building with annual intensity\n",
    "print(\"Annual Energy Intensity:\")\n",
    "for i, building in enumerate(buildings):\n",
    "    print(f\"{building}: {annual_intensity[i]:.2f} kWh/m^2/year\")"
   ]
  },
  {
   "cell_type": "markdown",
   "metadata": {},
   "source": [
    "### Part B: Efficiency Classification (12 points)"
   ]
  },
  {
   "cell_type": "code",
   "execution_count": null,
   "metadata": {},
   "outputs": [],
   "source": [
    "# Exercise 3B: Efficiency Classification\n",
    "\n",
    "# TODO: Create list for ratings\n",
    "ratings = []\n",
    "\n",
    "# TODO: Classify each building\n",
    "for i, building in enumerate(buildings):\n",
    "    intensity = annual_intensity[i]\n",
    "    \n",
    "    # Use if/elif/else to assign rating\n",
    "    if intensity < 50:\n",
    "        rating = 'A'\n",
    "    elif intensity < 100:\n",
    "        rating = 'B'\n",
    "    # TODO: Add more conditions for C, D, F\n",
    "    \n",
    "    ratings.append(rating)\n",
    "\n",
    "# TODO: Print formatted report\n",
    "print(\"\\n\" + \"=\" * 60)\n",
    "print(\"Energy Efficiency Report\")\n",
    "print(\"=\" * 60)\n",
    "for i, building in enumerate(buildings):\n",
    "    print(f\"{building}: {annual_intensity[i]:.2f} kWh/m^2/year - Rating: {ratings[i]}\")"
   ]
  },
  {
   "cell_type": "markdown",
   "metadata": {},
   "source": [
    "### Part C: Rating Summary (5 points)"
   ]
  },
  {
   "cell_type": "code",
   "execution_count": null,
   "metadata": {},
   "outputs": [],
   "source": [
    "# Exercise 3C: Rating Summary\n",
    "\n",
    "# TODO: Count buildings in each rating category\n",
    "count_a = ratings.count('A')\n",
    "count_b = \n",
    "count_c = \n",
    "count_d = \n",
    "count_f = \n",
    "\n",
    "# TODO: Print summary\n",
    "print(\"\\nRating Summary:\")\n",
    "print(f\"  A (Excellent): {count_a}\")\n",
    "# Add more ratings\n",
    "\n",
    "# TODO: Find most common rating\n",
    "# Hint: You can create a dictionary or compare counts"
   ]
  },
  {
   "cell_type": "markdown",
   "metadata": {},
   "source": [
    "---\n",
    "\n",
    "## Exercise 4: Energy Cost Calculator (20 points)\n",
    "\n",
    "### Part A: Simple Cost Function (8 points)"
   ]
  },
  {
   "cell_type": "code",
   "execution_count": null,
   "metadata": {},
   "outputs": [],
   "source": [
    "# Exercise 4A: Simple Cost Function\n",
    "\n",
    "def calculate_monthly_cost(consumption_kwh, rate_per_kwh):\n",
    "    \"\"\"\n",
    "    Calculate monthly energy cost.\n",
    "    \n",
    "    Parameters:\n",
    "        consumption_kwh (float): Monthly energy consumption in kWh\n",
    "        rate_per_kwh (float): Energy rate in USD/kWh\n",
    "    \n",
    "    Returns:\n",
    "        float: Monthly cost in USD\n",
    "    \"\"\"\n",
    "    # TODO: Calculate and return cost\n",
    "    cost = \n",
    "    return cost\n",
    "\n",
    "# TODO: Test the function\n",
    "test_consumption = 50000  # kWh\n",
    "test_rate = 0.12  # USD/kWh\n",
    "result = calculate_monthly_cost(test_consumption, test_rate)\n",
    "print(f\"Monthly cost for {test_consumption} kWh at ${test_rate}/kWh: ${result:,.2f}\")"
   ]
  },
  {
   "cell_type": "markdown",
   "metadata": {},
   "source": [
    "### Part B: Peak/Off-Peak Cost Function (12 points)"
   ]
  },
  {
   "cell_type": "code",
   "execution_count": null,
   "metadata": {},
   "outputs": [],
   "source": [
    "# Exercise 4B: Peak/Off-Peak Cost Function\n",
    "\n",
    "def calculate_tiered_cost(total_consumption, peak_percentage=0.6):\n",
    "    \"\"\"\n",
    "    Calculate cost with peak/off-peak pricing.\n",
    "    \n",
    "    Parameters:\n",
    "        total_consumption (float): Total monthly consumption in kWh\n",
    "        peak_percentage (float): Fraction of consumption during peak hours (default 0.6)\n",
    "    \n",
    "    Returns:\n",
    "        tuple: (peak_cost, off_peak_cost, total_cost)\n",
    "    \"\"\"\n",
    "    peak_rate = 0.15  # USD/kWh\n",
    "    off_peak_rate = 0.08  # USD/kWh\n",
    "    \n",
    "    # TODO: Calculate peak consumption\n",
    "    peak_consumption = \n",
    "    \n",
    "    # TODO: Calculate off-peak consumption\n",
    "    off_peak_consumption = \n",
    "    \n",
    "    # TODO: Calculate costs\n",
    "    peak_cost = \n",
    "    off_peak_cost = \n",
    "    total_cost = \n",
    "    \n",
    "    return peak_cost, off_peak_cost, total_cost\n",
    "\n",
    "# TODO: Test the function\n",
    "test_consumption = 85000  # kWh\n",
    "peak_cost, off_peak_cost, total_cost = calculate_tiered_cost(test_consumption, 0.6)\n",
    "\n",
    "print(f\"\\nTiered Pricing Analysis for {test_consumption} kWh:\")\n",
    "print(f\"  Peak cost (60%): ${peak_cost:,.2f}\")\n",
    "print(f\"  Off-peak cost (40%): ${off_peak_cost:,.2f}\")\n",
    "print(f\"  Total cost: ${total_cost:,.2f}\")"
   ]
  },
  {
   "cell_type": "markdown",
   "metadata": {},
   "source": [
    "---\n",
    "\n",
    "## Exercise 5: Challenge - Energy Optimization (10 points)\n",
    "\n",
    "### Part A: Most and Least Efficient Buildings (5 points)"
   ]
  },
  {
   "cell_type": "code",
   "execution_count": null,
   "metadata": {},
   "outputs": [],
   "source": [
    "# Exercise 5A: Most and Least Efficient\n",
    "\n",
    "# TODO: Find minimum and maximum annual intensity\n",
    "min_intensity = min(annual_intensity)\n",
    "max_intensity = max(annual_intensity)\n",
    "\n",
    "# TODO: Find which buildings these correspond to\n",
    "min_index = annual_intensity.index(min_intensity)\n",
    "max_index = \n",
    "\n",
    "# TODO: Get building names\n",
    "most_efficient = buildings[min_index]\n",
    "least_efficient = \n",
    "\n",
    "# TODO: Print results\n",
    "print(\"=\" * 60)\n",
    "print(\"Efficiency Comparison\")\n",
    "print(\"=\" * 60)\n",
    "print(f\"Most efficient: {most_efficient}\")\n",
    "print(f\"  Intensity: {min_intensity:.2f} kWh/m^2/year\")\n",
    "print(f\"  Rating: {ratings[min_index]}\")\n",
    "# Add least efficient\n",
    "\n",
    "# TODO: Calculate percentage difference\n",
    "percentage_diff = \n",
    "print(f\"\\nPercentage difference: {percentage_diff:.1f}%\")"
   ]
  },
  {
   "cell_type": "markdown",
   "metadata": {},
   "source": [
    "### Part B: Energy Savings Potential (5 points)\n",
    "\n",
    "Calculate savings if all buildings achieved Rating B (100 kWh/m²/year)."
   ]
  },
  {
   "cell_type": "code",
   "execution_count": null,
   "metadata": {},
   "outputs": [],
   "source": [
    "# Exercise 5B: Energy Savings Potential\n",
    "\n",
    "target_intensity = 100  # kWh/m^2/year for Rating B\n",
    "total_savings_kwh = 0\n",
    "\n",
    "print(\"\\n\" + \"=\" * 60)\n",
    "print(\"Energy Savings Potential\")\n",
    "print(\"=\" * 60)\n",
    "print(f\"Target: Rating B ({target_intensity} kWh/m^2/year)\\n\")\n",
    "\n",
    "# TODO: Loop through buildings and calculate savings\n",
    "for i, building in enumerate(buildings):\n",
    "    # Check if building has worse rating than B (C, D, or F)\n",
    "    if annual_intensity[i] > target_intensity:\n",
    "        # Calculate current annual consumption\n",
    "        current_consumption = \n",
    "        \n",
    "        # Calculate target consumption\n",
    "        target_consumption = \n",
    "        \n",
    "        # Calculate savings\n",
    "        savings = \n",
    "        \n",
    "        # Add to total\n",
    "        total_savings_kwh += savings\n",
    "        \n",
    "        print(f\"{building}: Could save {savings:,.0f} kWh/year\")\n",
    "\n",
    "# TODO: Calculate cost savings\n",
    "cost_savings = total_savings_kwh * 0.12  # Standard rate\n",
    "\n",
    "print(f\"\\nTotal Potential Savings: {total_savings_kwh:,.0f} kWh/year\")\n",
    "print(f\"Annual Cost Savings: ${cost_savings:,.2f}\")"
   ]
  },
  {
   "cell_type": "markdown",
   "metadata": {},
   "source": [
    "---\n",
    "\n",
    "## Bonus Challenge (Optional, +5 points)\n",
    "\n",
    "Create an interactive energy calculator that gets user input."
   ]
  },
  {
   "cell_type": "code",
   "execution_count": null,
   "metadata": {},
   "outputs": [],
   "source": [
    "# Bonus: Interactive Energy Calculator\n",
    "\n",
    "# TODO: Create interactive program with input() and try/except\n",
    "# Use a while loop to allow multiple buildings\n",
    "# Handle errors gracefully\n",
    "\n",
    "# Starter code:\n",
    "print(\"Interactive Building Energy Calculator\")\n",
    "print(\"=\" * 60)\n",
    "\n",
    "while True:\n",
    "    # Get user input\n",
    "    name = input(\"\\nEnter building name (or 'quit' to exit): \")\n",
    "    \n",
    "    if name.lower() == 'quit':\n",
    "        print(\"Thank you for using the calculator!\")\n",
    "        break\n",
    "    \n",
    "    try:\n",
    "        # TODO: Get consumption and area from user\n",
    "        # TODO: Perform calculations\n",
    "        # TODO: Print formatted report\n",
    "        pass\n",
    "        \n",
    "    except ValueError:\n",
    "        print(\"Error: Please enter valid numbers!\")\n",
    "    except Exception as e:\n",
    "        print(f\"Error: {e}\")"
   ]
  },
  {
   "cell_type": "markdown",
   "metadata": {},
   "source": [
    "---\n",
    "\n",
    "## Reflection Questions\n",
    "\n",
    "Answer these questions in the markdown cell below:\n",
    "\n",
    "1. What was the most challenging part of this lab?\n",
    "2. How could energy efficiency analysis help civil engineers in real projects?\n",
    "3. What additional features would make this calculator more useful?"
   ]
  },
  {
   "cell_type": "markdown",
   "metadata": {},
   "source": [
    "### Your Answers:\n",
    "\n",
    "1. \n",
    "\n",
    "2. \n",
    "\n",
    "3. \n"
   ]
  },
  {
   "cell_type": "markdown",
   "metadata": {},
   "source": [
    "---\n",
    "\n",
    "## Submission Checklist\n",
    "\n",
    "Before submitting, make sure:\n",
    "- [ ] All code cells have been executed and show outputs\n",
    "- [ ] All TODO items have been completed\n",
    "- [ ] Code includes comments explaining your logic\n",
    "- [ ] Output is formatted clearly with appropriate decimal places\n",
    "- [ ] Reflection questions are answered\n",
    "- [ ] File is saved as `lab01_energy_calculator.ipynb`\n",
    "\n",
    "**Good luck! 🌟**"
   ]
  }
 ],
 "metadata": {
  "kernelspec": {
   "display_name": "Python 3",
   "language": "python",
   "name": "python3"
  },
  "language_info": {
   "codemirror_mode": {
    "name": "ipython",
    "version": 3
   },
   "file_extension": ".py",
   "mimetype": "text/x-python",
   "name": "python",
   "nbconvert_exporter": "python",
   "pygments_lexer": "ipython3",
   "version": "3.9.7"
  }
 },
 "nbformat": 4,
 "nbformat_minor": 4
}
