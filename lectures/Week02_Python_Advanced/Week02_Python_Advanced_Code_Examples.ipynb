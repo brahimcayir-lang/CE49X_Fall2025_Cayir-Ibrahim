{
  "cells": [
    {
      "cell_type": "markdown",
      "metadata": {},
      "source": [
        "# CE49X: Introduction to Computational Thinking and Data Science for Civil Engineers\n",
        "\n",
        "## Week 2: Advanced Python Programming Concepts\n",
        "\n",
        "**Based on \"A Whirlwind Tour of Python\" by Jake VanderPlas - Chapters 07-12**\n",
        "\n",
        "**Author:** Dr. Eyuphan Koc  \n",
        "**Institution:** Bogazici University - Department of Civil Engineering  \n",
        "**Semester:** Fall 2025\n",
        "\n",
        "---\n",
        "\n",
        "### Topics Covered:\n",
        "1. **Control Flow Statements** - Conditional logic and loops\n",
        "2. **Functions** - Defining reusable code blocks\n",
        "3. **Error Handling** - Managing exceptions and robust programming\n",
        "4. **Iterators** - Efficient data processing\n",
        "5. **List Comprehensions** - Elegant list creation\n",
        "6. **Generators** - Memory-efficient iteration\n",
        "\n",
        "### Learning Objectives:\n",
        "- Master Python control flow for engineering problem-solving\n",
        "- Create modular, reusable functions for structural calculations\n",
        "- Implement robust error handling in engineering applications\n",
        "- Use iterators and comprehensions for efficient data processing\n",
        "- Apply generators for memory-efficient computations\n",
        "\n",
        "---\n",
        "\n",
        "*This notebook contains practical examples with civil engineering applications to demonstrate advanced Python programming concepts.*\n"
      ]
    },
    {
      "cell_type": "markdown",
      "metadata": {},
      "source": [
        "## 1. Control Flow Statements\n",
        "\n",
        "Control flow determines the order of code execution. In engineering, we use control flow to:\n",
        "- Make decisions based on design criteria\n",
        "- Process multiple data points\n",
        "- Implement iterative design procedures\n",
        "- Handle different load cases and scenarios\n",
        "\n",
        "### 1.1 Conditional Statements (if-elif-else)\n"
      ]
    },
    {
      "cell_type": "code",
      "execution_count": null,
      "metadata": {},
      "outputs": [],
      "source": [
        "# Basic conditional structure\n",
        "load = 1500  # kN\n",
        "design_capacity = 1200  # kN\n",
        "\n",
        "if load <= design_capacity:\n",
        "    print(\"Structure is safe\")\n",
        "elif load <= design_capacity * 1.1:\n",
        "    print(\"Structure needs inspection\")\n",
        "else:\n",
        "    print(\"Structure is overloaded - immediate action required\")\n",
        "    safety_factor = design_capacity / load\n",
        "    print(f\"Safety factor: {safety_factor:.2f}\")\n"
      ]
    },
    {
      "cell_type": "code",
      "execution_count": null,
      "metadata": {},
      "outputs": [],
      "source": [
        "# Processing multiple measurements\n",
        "concrete_strengths = [25, 30, 28, 32, 27]  # MPa\n",
        "\n",
        "print(\"Concrete strength analysis:\")\n",
        "for strength in concrete_strengths:\n",
        "    if strength >= 30:\n",
        "        grade = \"High grade\"\n",
        "    elif strength >= 25:\n",
        "        grade = \"Standard grade\"\n",
        "    else:\n",
        "        grade = \"Low grade\"\n",
        "    print(f\"Strength: {strength} MPa - {grade}\")\n"
      ]
    },
    {
      "cell_type": "code",
      "execution_count": null,
      "metadata": {},
      "outputs": [],
      "source": [
        "# Generate loading scenarios\n",
        "for load_factor in range(1, 6):  # 1 to 5\n",
        "    applied_load = load_factor * 100  # kN\n",
        "    print(f\"Load Factor {load_factor}: {applied_load} kN\")\n"
      ]
    },
    {
      "cell_type": "code",
      "execution_count": null,
      "metadata": {},
      "outputs": [],
      "source": [
        "beam_depth = 200  # mm\n",
        "max_stress = 0\n",
        "target_stress = 150  # MPa\n",
        "\n",
        "while max_stress < target_stress:\n",
        "    # Calculate stress (simplified)\n",
        "    max_stress = 50000 / (beam_depth ** 2) * 1000  # Convert to MPa\n",
        "    \n",
        "    if max_stress < target_stress:\n",
        "        beam_depth += 10\n",
        "        print(f\"Increasing depth to {beam_depth} mm\")\n",
        "    else:\n",
        "        print(f\"Final design: {beam_depth} mm depth\")\n",
        "        print(f\"Max stress: {max_stress:.1f} MPa\")\n"
      ]
    },
    {
      "cell_type": "code",
      "execution_count": null,
      "metadata": {},
      "outputs": [],
      "source": [
        "# Finding first acceptable design\n",
        "materials = ['steel', 'concrete', 'timber', 'aluminum']\n",
        "costs = [150, 80, 60, 200]  # $/m³\n",
        "budget_limit = 100\n",
        "\n",
        "print(\"Searching for materials within budget:\")\n",
        "for material, cost in zip(materials, costs):\n",
        "    if cost > budget_limit:\n",
        "        print(f\"Skipping {material} - too expensive (${cost})\")\n",
        "        continue  # Skip to next iteration\n",
        "    \n",
        "    print(f\"Found suitable material: {material} at ${cost}/m³\")\n",
        "    if material == 'concrete':\n",
        "        print(\"Concrete selected - stopping search\")\n",
        "        break  # Exit loop entirely\n",
        "\n",
        "print(\"Material selection complete\")\n"
      ]
    },
    {
      "cell_type": "code",
      "execution_count": null,
      "metadata": {},
      "outputs": [],
      "source": [
        "# Sieve of Eratosthenes - finding prime numbers (useful for optimization)\n",
        "def find_primes_up_to(n):\n",
        "    primes = []\n",
        "    for num in range(2, n):\n",
        "        for factor in primes:\n",
        "            if num % factor == 0:\n",
        "                break  # Not prime\n",
        "        else:  # No break occurred - number is prime\n",
        "            primes.append(num)\n",
        "    return primes\n",
        "\n",
        "# Find first 10 primes\n",
        "first_primes = find_primes_up_to(30)\n",
        "print(\"Prime numbers:\", first_primes)\n"
      ]
    },
    {
      "cell_type": "markdown",
      "metadata": {},
      "source": [
        "## 2. Functions - Building Reusable Engineering Tools\n",
        "\n",
        "Functions allow us to create reusable code for common engineering calculations. This promotes:\n",
        "- Code reusability and modularity\n",
        "- Easier testing and debugging\n",
        "- Better organization of complex calculations\n",
        "- Standardization of engineering procedures\n",
        "\n",
        "### 2.1 Basic Function Definition\n"
      ]
    },
    {
      "cell_type": "code",
      "execution_count": null,
      "metadata": {},
      "outputs": [],
      "source": [
        "def calculate_beam_moment(load, length):\n",
        "    \"\"\"Calculate maximum moment in simply supported beam.\n",
        "    \n",
        "    Args:\n",
        "        load (float): Uniformly distributed load in kN/m\n",
        "        length (float): Beam span in meters\n",
        "    \n",
        "    Returns:\n",
        "        float: Maximum moment in kN⋅m\n",
        "    \"\"\"\n",
        "    max_moment = (load * length**2) / 8\n",
        "    return max_moment\n",
        "\n",
        "# Using the function\n",
        "udl = 10  # kN/m\n",
        "span = 6  # m\n",
        "moment = calculate_beam_moment(udl, span)\n",
        "print(f\"Maximum moment: {moment} kN⋅m\")\n"
      ]
    },
    {
      "cell_type": "code",
      "execution_count": null,
      "metadata": {},
      "outputs": [],
      "source": [
        "def calculate_concrete_strength(fc_28=25, age_days=28, cement_type='OPC'):\n",
        "    \"\"\"Calculate concrete strength at different ages.\"\"\"\n",
        "    # Simplified maturity model\n",
        "    if cement_type == 'RHPC':\n",
        "        k = 0.25  # Rapid hardening\n",
        "    elif cement_type == 'PPC':\n",
        "        k = 0.15  # Pozzolanic\n",
        "    else:\n",
        "        k = 0.20  # Ordinary Portland Cement\n",
        "    \n",
        "    strength_ratio = (age_days / (k + 0.95 * age_days))\n",
        "    return fc_28 * strength_ratio\n",
        "\n",
        "# Usage examples\n",
        "print(f\"7-day: {calculate_concrete_strength(age_days=7):.1f} MPa\")\n",
        "print(f\"RHPC: {calculate_concrete_strength(age_days=7, cement_type='RHPC'):.1f} MPa\")\n"
      ]
    },
    {
      "cell_type": "code",
      "execution_count": null,
      "metadata": {},
      "outputs": [],
      "source": [
        "def analyze_beam_section(width, depth, material='steel'):\n",
        "    \"\"\"Calculate section properties of rectangular beam.\n",
        "    Returns:\n",
        "        tuple: (area, moment_of_inertia, section_modulus)\n",
        "    \"\"\"\n",
        "    area = width * depth  # mm²\n",
        "    moment_of_inertia = (width * depth**3) / 12  # mm⁴\n",
        "    section_modulus = moment_of_inertia / (depth/2)  # mm³\n",
        "    return area, moment_of_inertia, section_modulus\n",
        "# Unpack multiple return values\n",
        "w, h = 200, 400  # mm\n",
        "A, I, S = analyze_beam_section(w, h)\n",
        "\n",
        "print(f\"Section properties:\")\n",
        "print(f\"Area: {A:,.0f} mm²\")\n",
        "print(f\"Moment of Inertia: {I:,.0f} mm⁴\")\n",
        "print(f\"Section Modulus: {S:,.0f} mm³\")\n"
      ]
    },
    {
      "cell_type": "code",
      "execution_count": null,
      "metadata": {},
      "outputs": [],
      "source": [
        "def calculate_total_load(*loads, safety_factor=1.5, **load_types):\n",
        "    \"\"\"Calculate total design load with safety factors.\"\"\"\n",
        "    total_service_load = sum(loads)\n",
        "    \n",
        "    # Add named loads with specific factors\n",
        "    for load_name, (load_value, factor) in load_types.items():\n",
        "        factored_load = load_value * factor\n",
        "        total_service_load += factored_load\n",
        "        print(f\"{load_name}: {load_value} kN × {factor} = {factored_load} kN\")\n",
        "    \n",
        "    design_load = total_service_load * safety_factor\n",
        "    return total_service_load, design_load\n",
        "\n",
        "# Usage\n",
        "service, design = calculate_total_load(50, 30, 20, safety_factor=1.6,\n",
        "                                      wind=(25, 1.2), seismic=(40, 1.0))\n",
        "print(f\"Service: {service} kN, Design: {design} kN\")\n"
      ]
    },
    {
      "cell_type": "code",
      "execution_count": null,
      "metadata": {},
      "outputs": [],
      "source": [
        "# Lambda functions for simple calculations\n",
        "stress_to_strain = lambda stress, E: stress / E\n",
        "unit_weight_concrete = lambda fc: 22.5 + 0.12 * fc  # kN/m³\n",
        "\n",
        "# Using lambda with built-in functions\n",
        "loads = [120, 85, 150, 200, 95]\n",
        "safety_factors = [1.4, 1.6, 1.2, 1.8, 1.5]\n",
        "design_loads = list(map(lambda x, y: x * y, loads, safety_factors))\n",
        "print(\"Design loads:\", design_loads)\n",
        "\n",
        "# Sort materials by cost-effectiveness\n",
        "materials = [{'name': 'Steel', 'strength': 250, 'cost': 800},\n",
        "            {'name': 'Concrete', 'strength': 30, 'cost': 150}]\n",
        "efficient_materials = sorted(materials, \n",
        "                           key=lambda m: m['strength']/m['cost'], reverse=True)\n",
        "for mat in efficient_materials:\n",
        "    print(f\"{mat['name']}: {mat['strength']/mat['cost']:.3f} ratio\")\n"
      ]
    },
    {
      "cell_type": "markdown",
      "metadata": {},
      "source": [
        "## 3. Error Handling - Robust Engineering Software\n",
        "\n",
        "Error handling is crucial in engineering software to:\n",
        "- Prevent crashes from invalid input data\n",
        "- Provide meaningful error messages to users\n",
        "- Handle edge cases in calculations\n",
        "- Ensure safe operation of critical systems\n",
        "\n",
        "### 3.1 Basic Exception Handling\n"
      ]
    },
    {
      "cell_type": "code",
      "execution_count": null,
      "metadata": {},
      "outputs": [],
      "source": [
        "def calculate_safety_factor(capacity, demand):\n",
        "    \"\"\"Calculate safety factor with error handling.\"\"\"\n",
        "    try:\n",
        "        safety_factor = capacity / demand\n",
        "        status = \"Safe\" if safety_factor >= 1.5 else \"Check\"\n",
        "        return safety_factor, status\n",
        "    except ZeroDivisionError:\n",
        "        return None, \"Zero demand error\"\n",
        "    except TypeError:\n",
        "        return None, \"Type error\"\n",
        "\n",
        "# Examples\n",
        "print(calculate_safety_factor(1000, 500))  # (2.0, 'Safe')\n",
        "print(calculate_safety_factor(1000, 0))    # (None, 'Zero demand error')\n"
      ]
    },
    {
      "cell_type": "code",
      "execution_count": null,
      "metadata": {},
      "outputs": [],
      "source": [
        "def load_material_properties(filename):\n",
        "    \"\"\"Load material properties with specific error handling.\"\"\"\n",
        "    try:\n",
        "        with open(filename, 'r') as file:\n",
        "            return file.read()\n",
        "    except FileNotFoundError:\n",
        "        print(f\"File '{filename}' not found!\")\n",
        "    except PermissionError:\n",
        "        print(f\"Permission denied: '{filename}'\")\n",
        "    except UnicodeDecodeError:\n",
        "        print(f\"Invalid encoding: '{filename}'\")\n",
        "    except Exception as e:\n",
        "        print(f\"Unexpected: {type(e).__name__}\")\n",
        "    return None\n",
        "\n",
        "# Usage example\n",
        "data = load_material_properties(\"steel_props.txt\")\n",
        "print(\"Loaded successfully\" if data else \"Using defaults\")\n"
      ]
    },
    {
      "cell_type": "code",
      "execution_count": null,
      "metadata": {},
      "outputs": [],
      "source": [
        "def validate_dimensions(width, height, length):\n",
        "    \"\"\"Validate structural dimensions.\"\"\"\n",
        "    if width <= 0 or height <= 0 or length <= 0:\n",
        "        raise ValueError(\"Dimensions must be positive\")\n",
        "    \n",
        "    if width > height * 3:\n",
        "        raise ValueError(\"Width/height ratio exceeds limit\")\n",
        "    \n",
        "    slenderness = length / min(width, height)\n",
        "    if slenderness > 200:\n",
        "        raise ValueError(\"Slenderness ratio too high\")\n",
        "    return True\n",
        "# Usage\n",
        "try:\n",
        "    validate_dimensions(200, 400, 6000)\n",
        "    print(\"Valid dimensions\")\n",
        "except ValueError as e:\n",
        "    print(f\"Error: {e}\")\n"
      ]
    },
    {
      "cell_type": "code",
      "execution_count": null,
      "metadata": {},
      "outputs": [],
      "source": [
        "def process_analysis(input_file, output_file):\n",
        "    \"\"\"Complete error handling example.\"\"\"\n",
        "    file_handle = None\n",
        "    try:\n",
        "        file_handle = open(input_file, 'r')\n",
        "        data = file_handle.read()\n",
        "        with open(output_file, 'w') as f:\n",
        "            f.write(analyze_structure(data))\n",
        "    except FileNotFoundError:\n",
        "        return False\n",
        "    except Exception:\n",
        "        return False\n",
        "    else:\n",
        "        return True\n",
        "    finally:\n",
        "        if file_handle:\n",
        "            file_handle.close()\n"
      ]
    },
    {
      "cell_type": "markdown",
      "metadata": {},
      "source": [
        "## 4. Iterators and Iteration\n",
        "\n",
        "Iterators provide efficient ways to process data sequences. In engineering applications:\n",
        "- Process large datasets without loading everything into memory\n",
        "- Iterate through measurement data, load combinations, and analysis results\n",
        "- Use specialized iterator functions for data manipulation\n"
      ]
    },
    {
      "cell_type": "code",
      "execution_count": null,
      "metadata": {},
      "outputs": [],
      "source": [
        "material_costs = [150, 200, 180, 220, 160] # Lists are iterable\n",
        "\n",
        "for cost in material_costs: # Direct iteration\n",
        "    print(f\"Material cost: {cost}\")\n",
        "    \n",
        "# Manual iteration using iterator\n",
        "cost_iterator = iter(material_costs)\n",
        "try:\n",
        "    while True:\n",
        "        cost = next(cost_iterator)\n",
        "        print(f\"Next cost: {cost}\")\n",
        "except StopIteration:\n",
        "    print(\"No more costs\")\n"
      ]
    },
    {
      "cell_type": "code",
      "execution_count": null,
      "metadata": {},
      "outputs": [],
      "source": [
        "# Range is an iterator\n",
        "load_factors = range(1, 6)  # 1, 2, 3, 4, 5\n",
        "print(\"Load factors:\", list(load_factors))\n",
        "print(type(load_factors))   # <class 'range'>\n",
        "\n",
        "load_list = list(load_factors) # Convert to list if needed\n",
        "print(load_list)  # [1, 2, 3, 4, 5]\n"
      ]
    },
    {
      "cell_type": "code",
      "execution_count": null,
      "metadata": {},
      "outputs": [],
      "source": [
        "# Processing with position tracking\n",
        "deflections = [2.5, 3.1, 1.8, 4.2, 2.9]  # mm\n",
        "max_allow = 5.0  # mm\n",
        "\n",
        "for i, defl in enumerate(deflections):\n",
        "    beam_id = f\"B{i+1:02d}\"\n",
        "    if defl > max_allow:\n",
        "        status = \"FAIL\"\n",
        "    elif defl > max_allow * 0.8:\n",
        "        status = \"WARN\"\n",
        "    else:\n",
        "        status = \"OK\"\n",
        "    print(f\"{beam_id}: {defl:.1f} mm [{status}]\")\n",
        "\n",
        "# Find maximum\n",
        "max_val = max(deflections)\n",
        "max_idx = deflections.index(max_val)\n",
        "print(f\"Max: {max_val} mm at B{max_idx+1:02d}\")\n"
      ]
    },
    {
      "cell_type": "code",
      "execution_count": null,
      "metadata": {},
      "outputs": [],
      "source": [
        "# Combining related datasets with zip\n",
        "beam_ids = ['B01', 'B02', 'B03']\n",
        "moments = [120, 95, 140]  # kN⋅m\n",
        "shears = [45, 38, 52]     # kN\n",
        "\n",
        "print(\"Beam Analysis:\")\n",
        "for beam, M, V in zip(beam_ids, moments, shears):\n",
        "    print(f\"{beam}: M={M} kN⋅m, V={V} kN\")\n",
        "\n",
        "# Create summary dictionary\n",
        "summary = {beam: {'moment': M, 'shear': V, 'ratio': M/150} \n",
        "           for beam, M, V in zip(beam_ids, moments, shears)}\n",
        "\n",
        "# Find critical beam\n",
        "critical = max(summary.items(), key=lambda x: x[1]['ratio'])\n",
        "print(f\"Critical beam: {critical[0]} (ratio: {critical[1]['ratio']:.2f})\")\n"
      ]
    },
    {
      "cell_type": "code",
      "execution_count": null,
      "metadata": {},
      "outputs": [],
      "source": [
        "# Convert and filter loads\n",
        "loads_kips = [12.5, 8.3, 15.7, 6.2, 11.4]\n",
        "kips_to_kN = 4.448\n",
        "\n",
        "loads_kN = list(map(lambda x: x * kips_to_kN, loads_kips)) # Convert to kN\n",
        "print(\"kN:\", [f\"{load:.1f}\" for load in loads_kN])\n",
        "\n",
        "limit = 60 # Filter critical\n",
        "critical = list(filter(lambda x: x > limit, loads_kN))\n",
        "print(f\"Critical (>{limit}):\", critical)\n",
        "\n",
        "def analyze(load): # Analysis\n",
        "    sf = 80 / load\n",
        "    return (load, sf, \"OK\" if sf >= 1.5 else \"CRITICAL\")\n",
        "\n",
        "for load, sf, status in filter(lambda x: x[2] == \"CRITICAL\", map(analyze, loads_kN)):\n",
        "    print(f\"{load:.1f} kN, SF: {sf:.2f}\")\n"
      ]
    },
    {
      "cell_type": "code",
      "execution_count": null,
      "metadata": {},
      "outputs": [],
      "source": [
        "from itertools import combinations, product\n",
        "\n",
        "dead = [50, 60]    # kN  # Load combinations\n",
        "live = [30, 40]    # kN\n",
        "wind = [20, 25]    # kN\n",
        "\n",
        "for i, (D, L, W) in enumerate(product(dead, live, wind), 1): \n",
        "    total = D + L + W\n",
        "    print(f\"LC{i}: {D}+{L}+{W} = {total} kN\")\n",
        "\n",
        "# Critical cases\n",
        "critical = [(D, L, W) for D, L, W in product(dead, live, wind) if D+L+W > 110]\n",
        "print(f\"Critical (>110): {len(critical)}\")\n",
        "\n",
        "members = ['A', 'B', 'C', 'D'] # Connection pairs\n",
        "connections = list(combinations(members, 2))\n",
        "print(f\"Connections: {len(connections)}\")\n"
      ]
    },
    {
      "cell_type": "markdown",
      "metadata": {},
      "source": [
        "## 5. List Comprehensions\n",
        "\n",
        "List comprehensions provide a concise way to create lists based on existing sequences. They are particularly useful in engineering for:\n",
        "- Data transformation and filtering\n",
        "- Mathematical calculations on datasets\n",
        "- Creating lookup tables and parameter studies\n"
      ]
    },
    {
      "cell_type": "code",
      "execution_count": 1,
      "metadata": {},
      "outputs": [
        {
          "name": "stdout",
          "output_type": "stream",
          "text": [
            "Traditional: [250.0, 300.0, 350.0, 400.0, 450.0]\n",
            "List comp: [250.0, 300.0, 350.0, 400.0, 450.0]\n",
            "Section moduli: [1000000.0, 1562500.0, 2250000.0, 3062500.0, 4000000.0]\n"
          ]
        }
      ],
      "source": [
        "steel_grades = [250, 300, 350, 400, 450] # Traditional approach with loop\n",
        "yield_stresses = []\n",
        "for grade in steel_grades:\n",
        "    yield_stresses.append(grade * 1.0)  # MPa\n",
        "print(\"Traditional:\", yield_stresses)\n",
        "\n",
        "yield_stresses_lc = [grade * 1.0 for grade in steel_grades] \n",
        "print(\"List comp:\", yield_stresses_lc) # List comprehension approach\n",
        "\n",
        "beam_depths = [200, 250, 300, 350, 400]  # mm\n",
        "beam_width = 150  # mm\n",
        "section_moduli = [beam_width * depth**2 / 6 for depth in beam_depths]\n",
        "print(\"Section moduli:\", section_moduli)\n"
      ]
    },
    {
      "cell_type": "code",
      "execution_count": null,
      "metadata": {},
      "outputs": [
        {
          "name": "stdout",
          "output_type": "stream",
          "text": [
            "Acceptable: ['C01', 'C02', 'C04']\n",
            "C01: 0.00 (Low)\n",
            "C02: 0.00 (Low)\n"
          ]
        }
      ],
      "source": [
        "# Filter and transform concrete test data\n",
        "cylinders = [\n",
        "    {'id': 'C01', 'strength': 28.5},\n",
        "    {'id': 'C02', 'strength': 32.1},\n",
        "    {'id': 'C03', 'strength': 24.8},\n",
        "    {'id': 'C04', 'strength': 30.2}\n",
        "]\n",
        "# Filter acceptable cylinders (≥ 25 MPa)\n",
        "acceptable = [c['id'] for c in cylinders if c['strength'] >= 25.0]\n",
        "print(\"Acceptable:\", acceptable)\n",
        "\n",
        "# Calculate ratios for acceptable cylinders\n",
        "target = 30.0\n",
        "ratios = [c['strength']/target for c in cylinders if c['strength'] >= 25.0]\n",
        "\n",
        "for cyl_id, ratio in zip(acceptable, ratios):\n",
        "    status = \"OK\" if ratio >= 1.0 else \"Low\"\n",
        "    print(f\"{cyl_id}: {ratio:.2f} ({status})\")\n"
      ]
    },
    {
      "cell_type": "code",
      "execution_count": 5,
      "metadata": {},
      "outputs": [
        {
          "name": "stdout",
          "output_type": "stream",
          "text": [
            "Critical (>300): 7\n",
            "LC2: 313.0 kN\n",
            "LC3: 314.0 kN\n"
          ]
        }
      ],
      "source": [
        "# Load combination matrix\n",
        "factors = {'dead': [1.2, 1.4], 'live': [1.6, 1.8], 'wind': [1.0, 1.3]}\n",
        "base = {'dead': 100, 'live': 80, 'wind': 50}  # kN\n",
        "\n",
        "# Nested comprehension\n",
        "combinations = [\n",
        "    {'case': f\"LC{i+1}\", 'total': base['dead']*df + base['live']*lf + base['wind']*wf}\n",
        "    for i, (df, lf, wf) in enumerate([\n",
        "        (df, lf, wf) for df in factors['dead']\n",
        "        for lf in factors['live'] for wf in factors['wind']\n",
        "    ])\n",
        "]\n",
        "# Critical cases\n",
        "critical = [lc for lc in combinations if lc['total'] > 300]\n",
        "print(f\"Critical (>300): {len(critical)}\")\n",
        "for lc in critical[:2]:\n",
        "    print(f\"{lc['case']}: {lc['total']:.1f} kN\")\n"
      ]
    },
    {
      "cell_type": "code",
      "execution_count": 6,
      "metadata": {},
      "outputs": [
        {
          "name": "stdout",
          "output_type": "stream",
          "text": [
            "B1: 85 kN⋅m (OK)\n",
            "B2: 120 kN⋅m (OK)\n",
            "B3: 95 kN⋅m (OK)\n",
            "B1: ρ=0.0068, As=544 mm²\n",
            "B2: ρ=0.0096, As=768 mm²\n",
            "B3: ρ=0.0076, As=608 mm²\n"
          ]
        }
      ],
      "source": [
        "# Beam classification with conditional expressions\n",
        "moments = [85, 120, 95, 140, 75, 160]  # kN⋅m\n",
        "design_moment = 125  # kN⋅m\n",
        "\n",
        "# Classifications\n",
        "classes = [f\"B{i+1}: {m} kN⋅m ({'OK' if m <= design_moment else 'OVER'})\" \n",
        "           for i, m in enumerate(moments)]\n",
        "for c in classes[:3]:\n",
        "    print(c)\n",
        "\n",
        "# Reinforcement ratios\n",
        "ratios = [m/design_moment * 0.01 if m <= design_moment else m/design_moment * 0.015 \n",
        "          for m in moments]\n",
        "\n",
        "for i, (m, rho) in enumerate(zip(moments[:3], ratios[:3])):\n",
        "    area = rho * 200 * 400\n",
        "    print(f\"B{i+1}: ρ={rho:.4f}, As={area:.0f} mm²\")\n"
      ]
    },
    {
      "cell_type": "code",
      "execution_count": null,
      "metadata": {},
      "outputs": [],
      "source": [
        "grades = [250, 300, 250, 350, 300, 400] # Set comprehension - unique values\n",
        "unique = {grade for grade in grades}\n",
        "print(\"Unique grades:\", sorted(unique))\n",
        "\n",
        "# Dictionary comprehension\n",
        "steel_grades = [250, 300, 350, 400]\n",
        "properties = {\n",
        "    grade: {'fy': grade, 'fu': grade * 1.3, 'E': 200000}\n",
        "    for grade in steel_grades\n",
        "}\n",
        "\n",
        "# Display properties\n",
        "for grade, props in list(properties.items())[:3]:\n",
        "    print(f\"Grade {grade}: fy={props['fy']}, fu={props['fu']:.0f}\")\n",
        "\n",
        "# Safety factors\n",
        "sf = {grade: 2.5 if grade < 350 else 2.2 for grade in steel_grades}\n",
        "print(\"SF:\", sf)\n"
      ]
    },
    {
      "cell_type": "markdown",
      "metadata": {},
      "source": [
        "## 6. Generators\n",
        "\n",
        "Generators provide memory-efficient iteration by producing values on demand rather than storing them all in memory. This is particularly valuable for:\n",
        "- Processing large datasets\n",
        "- Creating infinite sequences\n",
        "- Memory-efficient computations\n"
      ]
    },
    {
      "cell_type": "code",
      "execution_count": null,
      "metadata": {},
      "outputs": [],
      "source": [
        "loads = [10, 15, 20, 25] # List vs Generator\n",
        "\n",
        "list_sq = [load**2 for load in loads] # List - all in memory\n",
        "print(\"List:\", list_sq)\n",
        "\n",
        "gen_sq = (load**2 for load in loads) # Generator - on demand\n",
        "print(\"Gen:\", gen_sq)\n",
        "\n",
        "# Use generator\n",
        "for sq in gen_sq:\n",
        "    print(f\"²: {sq}\")\n",
        "\n",
        "# Exhausted after use\n",
        "print(\"Reuse:\", list(gen_sq))  # Empty!\n",
        "\n",
        "import sys # Memory\n",
        "print(f\"List: {sys.getsizeof([x**2 for x in range(100)])} bytes\")\n",
        "print(f\"Gen: {sys.getsizeof((x**2 for x in range(100)))} bytes\")\n"
      ]
    },
    {
      "cell_type": "code",
      "execution_count": null,
      "metadata": {},
      "outputs": [],
      "source": [
        "def fibonacci_generator(max_value):\n",
        "    \"\"\"Generate Fibonacci sequence.\"\"\"\n",
        "    a, b = 0, 1\n",
        "    while a <= max_value:\n",
        "        yield a\n",
        "        a, b = b, a + b\n",
        "\n",
        "def load_combo_generator(dead, live_loads, factors):\n",
        "    \"\"\"Generate load combinations.\"\"\"\n",
        "    for live in live_loads:\n",
        "        for factor in factors:\n",
        "            total = dead + live * factor\n",
        "            yield {'dead': dead, 'live': live, 'factor': factor, 'total': total}\n"
      ]
    },
    {
      "cell_type": "code",
      "execution_count": null,
      "metadata": {},
      "outputs": [],
      "source": [
        "def sieve_of_eratosthenes(limit):\n",
        "    \"\"\"Generate prime numbers using Sieve algorithm.\"\"\"\n",
        "    is_prime = [True] * (limit + 1)\n",
        "    is_prime[0] = is_prime[1] = False\n",
        "    for num in range(2, int(limit**0.5) + 1):\n",
        "        if is_prime[num]:\n",
        "            for multiple in range(num * num, limit + 1, num):\n",
        "                is_prime[multiple] = False    \n",
        "    for num in range(2, limit + 1):\n",
        "        if is_prime[num]:\n",
        "            yield num\n",
        "\n",
        "primes = sieve_of_eratosthenes(30) # Test the generator\n",
        "print(\"Primes up to 30:\", list(primes))\n"
      ]
    },
    {
      "cell_type": "code",
      "execution_count": null,
      "metadata": {},
      "outputs": [],
      "source": [
        "def structural_optimization_sequence():\n",
        "    \"\"\"Generate optimization parameters using prime spacing.\"\"\"\n",
        "    primes = sieve_of_eratosthenes(50)\n",
        "    base_dim = 200  # mm\n",
        "    \n",
        "    for prime in primes:\n",
        "        if prime > 10:\n",
        "            width = base_dim + prime * 5\n",
        "            yield {'width': width, 'height': width * 1.5}\n",
        "\n",
        "print(\"Optimization sequence:\") # Generate structural dimensions\n",
        "opt_gen = structural_optimization_sequence()\n",
        "for i, params in enumerate(opt_gen):\n",
        "    if i >= 4: break\n",
        "    print(f\"Option {i+1}: {params['width']}×{params['height']} mm\")\n"
      ]
    },
    {
      "cell_type": "code",
      "execution_count": null,
      "metadata": {},
      "outputs": [],
      "source": [
        "def load_test(max_load, increment):\n",
        "    \"\"\"Simulate loading with state preservation.\"\"\"\n",
        "    load, step = 0, 0\n",
        "    while load <= max_load:\n",
        "        step += 1\n",
        "        stress = load / 10  # MPa\n",
        "        status = 'elastic' if stress < 250 else 'plastic'\n",
        "        yield {'step': step, 'load': load, 'stress': stress, 'status': status}\n",
        "        load += increment\n",
        "\n",
        "test = load_test(max_load=600, increment=100) # Run test\n",
        "for result in test:\n",
        "    print(f\"Step {result['step']}: {result['load']} kN → {result['stress']:.1f} MPa [{result['status']}]\")\n",
        "    if result['status'] == 'plastic':\n",
        "        print(\"Yield reached\")\n",
        "        break\n",
        "print(\"State preserved\")\n"
      ]
    },
    {
      "cell_type": "markdown",
      "metadata": {},
      "source": [
        "## Summary\n",
        "\n",
        "This notebook contains all the code examples from Week 2 lectures covering:\n",
        "\n",
        "### Control Flow Statements\n",
        "- Conditional statements (if-elif-else)\n",
        "- For and while loops\n",
        "- Loop control (break, continue, else clause)\n",
        "\n",
        "### Functions\n",
        "- Basic function definition and usage\n",
        "- Default parameters and multiple return values\n",
        "- Variable arguments (*args, **kwargs)\n",
        "- Lambda functions\n",
        "\n",
        "### Error Handling\n",
        "- Basic try-except blocks\n",
        "- Specific exception handling\n",
        "- Custom exceptions and validation\n",
        "- Complete try-except-else-finally structure\n",
        "\n",
        "### Iterators\n",
        "- Basic iteration concepts\n",
        "- Iterator functions (enumerate, zip, map, filter)\n",
        "- Specialized iterators from itertools\n",
        "\n",
        "### List Comprehensions\n",
        "- Basic syntax and usage\n",
        "- Conditional filtering and expressions\n",
        "- Nested comprehensions\n",
        "- Set and dictionary comprehensions\n",
        "\n",
        "### Generators\n",
        "- Generator expressions vs list comprehensions\n",
        "- Generator functions with yield\n",
        "- Advanced examples and state preservation\n",
        "\n",
        "All examples are designed with civil engineering applications to demonstrate practical usage in structural analysis, design calculations, and data processing.\n"
      ]
    },
    {
      "cell_type": "markdown",
      "metadata": {},
      "source": []
    }
  ],
  "metadata": {
    "kernelspec": {
      "display_name": "base",
      "language": "python",
      "name": "python3"
    },
    "language_info": {
      "codemirror_mode": {
        "name": "ipython",
        "version": 3
      },
      "file_extension": ".py",
      "mimetype": "text/x-python",
      "name": "python",
      "nbconvert_exporter": "python",
      "pygments_lexer": "ipython3",
      "version": "3.12.2"
    }
  },
  "nbformat": 4,
  "nbformat_minor": 2
}
